{
 "cells": [
  {
   "cell_type": "code",
   "execution_count": 1,
   "metadata": {},
   "outputs": [],
   "source": [
    "import pandas as pd\n",
    "import numpy as np\n",
    "pd.set_option(\"display.max_columns\", None)\n",
    "pd.set_option(\"display.max_rows\", None)\n",
    "HC = pd.read_excel(\"Arabic_speakers_HC.xlsx\")\n",
    "SC = pd.read_excel(\"Arabic_speakers_SC.xlsx\")"
   ]
  },
  {
   "cell_type": "code",
   "execution_count": 2,
   "metadata": {},
   "outputs": [
    {
     "name": "stdout",
     "output_type": "stream",
     "text": [
      "<class 'pandas.core.frame.DataFrame'>\n",
      "RangeIndex: 55 entries, 0 to 54\n",
      "Columns: 119 entries, Unnamed: 0 to SCOPE\n",
      "dtypes: float64(10), int64(109)\n",
      "memory usage: 51.3 KB\n"
     ]
    }
   ],
   "source": [
    "HC.info()"
   ]
  },
  {
   "cell_type": "code",
   "execution_count": 3,
   "metadata": {},
   "outputs": [
    {
     "name": "stdout",
     "output_type": "stream",
     "text": [
      "<class 'pandas.core.frame.DataFrame'>\n",
      "RangeIndex: 37 entries, 0 to 36\n",
      "Columns: 158 entries, Unnamed: 0 to AGEARRIVED\n",
      "dtypes: float64(126), int64(32)\n",
      "memory usage: 45.8 KB\n"
     ]
    }
   ],
   "source": [
    "SC.info()"
   ]
  },
  {
   "cell_type": "markdown",
   "metadata": {},
   "source": [
    "HC is all arabic speakers and SC are arabic speakers that were not born in Germany."
   ]
  },
  {
   "cell_type": "markdown",
   "metadata": {},
   "source": [
    "This is the list of immigrant IDs [50010214, 50110317, 50180208, 50180216, 50250201, 50390103, 50440104, 50510215, 50720310, 50750403, 51060220, 51110318, 51370209, 51400202, 51420113, 51440317, 51460211, 51460212, 51520103, 51600211, 51720216, 51810312, 51900106, 51910205, 51960204, 51960205, 51960207, 51960210, 51960213, 51960217, 51980107, 52100212, 52250303, 52260303, 52470104, 52510311, 52590107]"
   ]
  },
  {
   "cell_type": "markdown",
   "metadata": {},
   "source": [
    "Let's do a practice merge. "
   ]
  },
  {
   "cell_type": "markdown",
   "metadata": {},
   "source": [
    "I think as these dataframes do not have the same number of rows as SC is only containing data of children not born in Germany - an inner join would work as this would delete the rows of of students not that are not featured in both dataframes. "
   ]
  },
  {
   "cell_type": "code",
   "execution_count": 4,
   "metadata": {},
   "outputs": [],
   "source": [
    "df = pd.merge(HC, SC, on='IDSTUD', how='inner')"
   ]
  },
  {
   "cell_type": "code",
   "execution_count": 5,
   "metadata": {},
   "outputs": [
    {
     "name": "stdout",
     "output_type": "stream",
     "text": [
      "<class 'pandas.core.frame.DataFrame'>\n",
      "Int64Index: 37 entries, 0 to 36\n",
      "Columns: 276 entries, Unnamed: 0_x to AGEARRIVED\n",
      "dtypes: float64(136), int64(140)\n",
      "memory usage: 80.1 KB\n"
     ]
    }
   ],
   "source": [
    "df.info()"
   ]
  },
  {
   "cell_type": "code",
   "execution_count": 7,
   "metadata": {},
   "outputs": [
    {
     "data": {
      "text/plain": [
       "['Unnamed: 0_x',\n",
       " 'IDCNTRY_x',\n",
       " 'IDPOP_x',\n",
       " 'IDGRADER_x',\n",
       " 'IDGRADE_x',\n",
       " 'WAVE_x',\n",
       " 'IDSCHOOL_x',\n",
       " 'IDCLASS_x',\n",
       " 'IDSTUD',\n",
       " 'ITLANG_HQ',\n",
       " 'LCID_HQ',\n",
       " 'ASBH01A',\n",
       " 'ASBH01B',\n",
       " 'ASBH01C',\n",
       " 'ASBH01D',\n",
       " 'ASBH01E',\n",
       " 'ASBH01F',\n",
       " 'ASBH01G',\n",
       " 'ASBH01H',\n",
       " 'ASBH01I',\n",
       " 'ASBH01J',\n",
       " 'ASBH01K',\n",
       " 'ASBH01L',\n",
       " 'ASBH01M',\n",
       " 'ASBH01N',\n",
       " 'ASBH01O',\n",
       " 'ASBH01P',\n",
       " 'ASBH01Q',\n",
       " 'ASBH01R',\n",
       " 'ASBH02A',\n",
       " 'ASBH02B',\n",
       " 'ASBH03A',\n",
       " 'ASBH03B',\n",
       " 'ASBH03C',\n",
       " 'ASBH03D',\n",
       " 'ASBH03E',\n",
       " 'ASBH03F',\n",
       " 'ASBH04',\n",
       " 'ASBH05AA',\n",
       " 'ASBH05AB',\n",
       " 'ASBH05B',\n",
       " 'ASBH06',\n",
       " 'ASBH07A',\n",
       " 'ASBH07B',\n",
       " 'ASBH07C',\n",
       " 'ASBH07D',\n",
       " 'ASBH07E',\n",
       " 'ASBH07F',\n",
       " 'ASBH07G',\n",
       " 'ASBH08A',\n",
       " 'ASBH08B',\n",
       " 'ASBH08C',\n",
       " 'ASBH08D',\n",
       " 'ASBH08E',\n",
       " 'ASBH08F',\n",
       " 'ASBH09',\n",
       " 'ASBH10',\n",
       " 'ASBH11A',\n",
       " 'ASBH11B',\n",
       " 'ASBH11C',\n",
       " 'ASBH11D',\n",
       " 'ASBH11E',\n",
       " 'ASBH11F',\n",
       " 'ASBH11G',\n",
       " 'ASBH11H',\n",
       " 'ASBH12',\n",
       " 'ASBH13',\n",
       " 'ASBH14A',\n",
       " 'ASBH14B',\n",
       " 'ASBH14C',\n",
       " 'ASBH15A',\n",
       " 'ASBH15B',\n",
       " 'ASBH16',\n",
       " 'ASBH17A',\n",
       " 'ASBH17B',\n",
       " 'ASBH18AA',\n",
       " 'ASBH18AB',\n",
       " 'ASBH18BA',\n",
       " 'ASBH18BB',\n",
       " 'ASBH18CA',\n",
       " 'ASBH18CB',\n",
       " 'ASBH18DA',\n",
       " 'ASBH18DB',\n",
       " 'ASBH18EA',\n",
       " 'ASBH18EB',\n",
       " 'ASBH18FA',\n",
       " 'ASBH18FB',\n",
       " 'ASBH18GA',\n",
       " 'ASBH18GB',\n",
       " 'ASBH19',\n",
       " 'ASBH20A',\n",
       " 'ASBH20B',\n",
       " 'ASBH20C',\n",
       " 'ASBH21A',\n",
       " 'ASBH21B',\n",
       " 'ASBH21C',\n",
       " 'ASBH21D',\n",
       " 'ASBH22',\n",
       " 'ASBGHRL_x',\n",
       " 'ASDGHRL_x',\n",
       " 'ASBHSES',\n",
       " 'ASDHSES',\n",
       " 'ASBHELA',\n",
       " 'ASDHELA',\n",
       " 'ASBHENA',\n",
       " 'ASDHENA',\n",
       " 'ASBHELN',\n",
       " 'ASDHELN',\n",
       " 'ASBHELT',\n",
       " 'ASDHELT',\n",
       " 'ASBHPCS',\n",
       " 'ASDHPCS',\n",
       " 'ASBHPLR',\n",
       " 'ASDHPLR',\n",
       " 'ASDHAPS',\n",
       " 'ASDHEDUP',\n",
       " 'ASDHOCCP',\n",
       " 'VERSION_x',\n",
       " 'SCOPE_x',\n",
       " 'Unnamed: 0_y',\n",
       " 'IDCNTRY_y',\n",
       " 'IDPOP_y',\n",
       " 'IDGRADER_y',\n",
       " 'IDGRADE_y',\n",
       " 'WAVE_y',\n",
       " 'IDSCHOOL_y',\n",
       " 'IDCLASS_y',\n",
       " 'ITSEX',\n",
       " 'ITADMINI',\n",
       " 'ITLANG_SA',\n",
       " 'LCID_SA',\n",
       " 'ITLANG_SQ',\n",
       " 'LCID_SQ',\n",
       " 'IDBOOK',\n",
       " 'ASBG01',\n",
       " 'ASBG03',\n",
       " 'ASBG04',\n",
       " 'ASBG05A',\n",
       " 'ASBG05B',\n",
       " 'ASBG05C',\n",
       " 'ASBG05D',\n",
       " 'ASBG05E',\n",
       " 'ASBG05F',\n",
       " 'ASBG05G',\n",
       " 'ASBG05H',\n",
       " 'ASBG05I',\n",
       " 'ASBG05J',\n",
       " 'ASBG05K',\n",
       " 'ASBG06',\n",
       " 'ASBG07A',\n",
       " 'ASBG07B',\n",
       " 'ASBG08A',\n",
       " 'ASBG08B',\n",
       " 'ASBG09A',\n",
       " 'ASBG09B',\n",
       " 'ASBG09C',\n",
       " 'ASBG09D',\n",
       " 'ASBG09E',\n",
       " 'ASBG09F',\n",
       " 'ASBG09G',\n",
       " 'ASBG09H',\n",
       " 'ASBG10A',\n",
       " 'ASBG10B',\n",
       " 'ASBG10C',\n",
       " 'ASBG10D',\n",
       " 'ASBG10E',\n",
       " 'ASBG10F',\n",
       " 'ASBG11A',\n",
       " 'ASBG11B',\n",
       " 'ASBG11C',\n",
       " 'ASBG11D',\n",
       " 'ASBG11E',\n",
       " 'ASBG11F',\n",
       " 'ASBG11G',\n",
       " 'ASBG11H',\n",
       " 'ASBG11I',\n",
       " 'ASBG11J',\n",
       " 'ASBR01A',\n",
       " 'ASBR01B',\n",
       " 'ASBR01C',\n",
       " 'ASBR01D',\n",
       " 'ASBR01E',\n",
       " 'ASBR01F',\n",
       " 'ASBR01G',\n",
       " 'ASBR01H',\n",
       " 'ASBR01I',\n",
       " 'ASBR02A',\n",
       " 'ASBR02B',\n",
       " 'ASBR02C',\n",
       " 'ASBR02D',\n",
       " 'ASBR02E',\n",
       " 'ASBR03A',\n",
       " 'ASBR03B',\n",
       " 'ASBR03C',\n",
       " 'ASBR04',\n",
       " 'ASBR05',\n",
       " 'ASBR06A',\n",
       " 'ASBR06B',\n",
       " 'ASBR07A',\n",
       " 'ASBR07B',\n",
       " 'ASBR07C',\n",
       " 'ASBR07D',\n",
       " 'ASBR07E',\n",
       " 'ASBR07F',\n",
       " 'ASBR07G',\n",
       " 'ASBR07H',\n",
       " 'ASBR08A',\n",
       " 'ASBR08B',\n",
       " 'ASBR08C',\n",
       " 'ASBR08D',\n",
       " 'ASBR08E',\n",
       " 'ASBR08F',\n",
       " 'ASDAGE',\n",
       " 'HOUWGT',\n",
       " 'TOTWGT',\n",
       " 'SENWGT',\n",
       " 'WGTADJ1',\n",
       " 'WGTADJ2',\n",
       " 'WGTADJ3',\n",
       " 'WGTFAC1',\n",
       " 'WGTFAC2',\n",
       " 'WGTFAC3',\n",
       " 'JKREP',\n",
       " 'JKZONE',\n",
       " 'ASRREA01',\n",
       " 'ASRREA02',\n",
       " 'ASRREA03',\n",
       " 'ASRREA04',\n",
       " 'ASRREA05',\n",
       " 'ASRLIT01',\n",
       " 'ASRLIT02',\n",
       " 'ASRLIT03',\n",
       " 'ASRLIT04',\n",
       " 'ASRLIT05',\n",
       " 'ASRINF01',\n",
       " 'ASRINF02',\n",
       " 'ASRINF03',\n",
       " 'ASRINF04',\n",
       " 'ASRINF05',\n",
       " 'ASRIIE01',\n",
       " 'ASRIIE02',\n",
       " 'ASRIIE03',\n",
       " 'ASRIIE04',\n",
       " 'ASRIIE05',\n",
       " 'ASRRSI01',\n",
       " 'ASRRSI02',\n",
       " 'ASRRSI03',\n",
       " 'ASRRSI04',\n",
       " 'ASRRSI05',\n",
       " 'ASRIBM01',\n",
       " 'ASRIBM02',\n",
       " 'ASRIBM03',\n",
       " 'ASRIBM04',\n",
       " 'ASRIBM05',\n",
       " 'ASBGSEC',\n",
       " 'ASDGSEC',\n",
       " 'ASBGSSB',\n",
       " 'ASDGSSB',\n",
       " 'ASBGSB',\n",
       " 'ASDGSB',\n",
       " 'ASBGERL',\n",
       " 'ASDGERL',\n",
       " 'ASBGDRL',\n",
       " 'ASDGDRL',\n",
       " 'ASBGSLR',\n",
       " 'ASDGSLR',\n",
       " 'ASBGHRL_y',\n",
       " 'ASDGHRL_y',\n",
       " 'ASBGSCR',\n",
       " 'ASDGSCR',\n",
       " 'ASDG05S',\n",
       " 'ASDRLOWP',\n",
       " 'VERSION_y',\n",
       " 'SCOPE_y',\n",
       " 'YRSINDEU',\n",
       " 'AGEARRIVED']"
      ]
     },
     "execution_count": 7,
     "metadata": {},
     "output_type": "execute_result"
    }
   ],
   "source": [
    "df.columns.to_list()"
   ]
  },
  {
   "cell_type": "code",
   "execution_count": 9,
   "metadata": {},
   "outputs": [
    {
     "name": "stdout",
     "output_type": "stream",
     "text": [
      "      IDSTUD  ASDAGE  ASBH02B\n",
      "0   50010214   10.25        1\n",
      "1   50110317   11.25        2\n",
      "2   50180208   12.00        4\n",
      "3   50180216   11.08        3\n",
      "4   50250201   10.00        2\n",
      "5   50390103   12.33        4\n",
      "6   50440104   10.33        2\n",
      "7   50510215    9.75        9\n",
      "8   50720310   10.42        3\n",
      "9   50750403   10.33        4\n",
      "10  51060220   10.33        2\n",
      "11  51110318    9.92        2\n",
      "12  51370209   11.42        2\n",
      "13  51400202   10.17        3\n",
      "14  51420113   10.75        2\n",
      "15  51440317   10.42        2\n",
      "16  51460211   10.00        2\n",
      "17  51460212    9.83        2\n",
      "18  51520103   10.33        2\n",
      "19  51600211   10.17        2\n",
      "20  51720216   10.25        3\n",
      "21  51810312    9.83        2\n",
      "22  51900106   11.67        3\n",
      "23  51910205   10.17        1\n",
      "24  51960204    9.67        2\n",
      "25  51960205    9.67        2\n",
      "26  51960207   10.33        3\n",
      "27  51960210    9.67        2\n",
      "28  51960213   11.58        3\n",
      "29  51960217   10.25        2\n",
      "30  51980107   11.00        2\n",
      "31  52100212   10.17        2\n",
      "32  52250303   11.17        3\n",
      "33  52260303   11.25        2\n",
      "34  52470104   11.25        4\n",
      "35  52510311   10.67        1\n",
      "36  52590107   10.42        2\n"
     ]
    }
   ],
   "source": [
    "print(df[[\"IDSTUD\",\"ASDAGE\",\"ASBH02B\"]])"
   ]
  },
  {
   "cell_type": "code",
   "execution_count": 13,
   "metadata": {},
   "outputs": [],
   "source": [
    "df['MINAGEARRIVAL'] = 0"
   ]
  },
  {
   "cell_type": "markdown",
   "metadata": {},
   "source": [
    "Let's make a column of min age arrived in Germany, which will be the min age of the column ASBH02B (1: Younger than 3 years old; 2: 3 to 5 years old; 3: 6 to 7 years old; 4: 8 years old or older.) So those with value 1 would have been 0, value 2 would be 3 etc. "
   ]
  },
  {
   "cell_type": "code",
   "execution_count": 14,
   "metadata": {},
   "outputs": [],
   "source": [
    "def populate_column(row):\n",
    "    if row['ASBH02B'] == 1:\n",
    "        return 0\n",
    "    elif row['ASBH02B'] == 2:\n",
    "        return 3\n",
    "    elif row['ASBH02B'] == 3:\n",
    "        return 6\n",
    "    elif row['ASBH02B'] == 4:\n",
    "        return 8\n",
    "    else:\n",
    "        return None  # Or any default value\n",
    "\n",
    "# Apply the function to each row\n",
    "df['MINAGEARRIVAL'] = df.apply(populate_column, axis=1)"
   ]
  },
  {
   "cell_type": "code",
   "execution_count": 15,
   "metadata": {},
   "outputs": [
    {
     "name": "stdout",
     "output_type": "stream",
     "text": [
      "0     0.0\n",
      "1     3.0\n",
      "2     8.0\n",
      "3     6.0\n",
      "4     3.0\n",
      "5     8.0\n",
      "6     3.0\n",
      "7     NaN\n",
      "8     6.0\n",
      "9     8.0\n",
      "10    3.0\n",
      "11    3.0\n",
      "12    3.0\n",
      "13    6.0\n",
      "14    3.0\n",
      "15    3.0\n",
      "16    3.0\n",
      "17    3.0\n",
      "18    3.0\n",
      "19    3.0\n",
      "20    6.0\n",
      "21    3.0\n",
      "22    6.0\n",
      "23    0.0\n",
      "24    3.0\n",
      "25    3.0\n",
      "26    6.0\n",
      "27    3.0\n",
      "28    6.0\n",
      "29    3.0\n",
      "30    3.0\n",
      "31    3.0\n",
      "32    6.0\n",
      "33    3.0\n",
      "34    8.0\n",
      "35    0.0\n",
      "36    3.0\n",
      "Name: MINAGEARRIVAL, dtype: float64\n"
     ]
    }
   ],
   "source": [
    "print(df['MINAGEARRIVAL'])"
   ]
  },
  {
   "cell_type": "code",
   "execution_count": 17,
   "metadata": {},
   "outputs": [
    {
     "name": "stdout",
     "output_type": "stream",
     "text": [
      "      IDSTUD  ASDAGE  MINAGEARRIVAL\n",
      "0   50010214   10.25            0.0\n",
      "1   50110317   11.25            3.0\n",
      "2   50180208   12.00            8.0\n",
      "3   50180216   11.08            6.0\n",
      "4   50250201   10.00            3.0\n",
      "5   50390103   12.33            8.0\n",
      "6   50440104   10.33            3.0\n",
      "7   50510215    9.75            NaN\n",
      "8   50720310   10.42            6.0\n",
      "9   50750403   10.33            8.0\n",
      "10  51060220   10.33            3.0\n",
      "11  51110318    9.92            3.0\n",
      "12  51370209   11.42            3.0\n",
      "13  51400202   10.17            6.0\n",
      "14  51420113   10.75            3.0\n",
      "15  51440317   10.42            3.0\n",
      "16  51460211   10.00            3.0\n",
      "17  51460212    9.83            3.0\n",
      "18  51520103   10.33            3.0\n",
      "19  51600211   10.17            3.0\n",
      "20  51720216   10.25            6.0\n",
      "21  51810312    9.83            3.0\n",
      "22  51900106   11.67            6.0\n",
      "23  51910205   10.17            0.0\n",
      "24  51960204    9.67            3.0\n",
      "25  51960205    9.67            3.0\n",
      "26  51960207   10.33            6.0\n",
      "27  51960210    9.67            3.0\n",
      "28  51960213   11.58            6.0\n",
      "29  51960217   10.25            3.0\n",
      "30  51980107   11.00            3.0\n",
      "31  52100212   10.17            3.0\n",
      "32  52250303   11.17            6.0\n",
      "33  52260303   11.25            3.0\n",
      "34  52470104   11.25            8.0\n",
      "35  52510311   10.67            0.0\n",
      "36  52590107   10.42            3.0\n"
     ]
    }
   ],
   "source": [
    "print(df[[\"IDSTUD\",\"ASDAGE\",\"MINAGEARRIVAL\"]])"
   ]
  },
  {
   "cell_type": "code",
   "execution_count": 18,
   "metadata": {},
   "outputs": [
    {
     "name": "stdout",
     "output_type": "stream",
     "text": [
      "0.5122474047888823\n"
     ]
    }
   ],
   "source": [
    "# Calculate correlation between two columns\n",
    "correlation = df['ASDAGE'].corr(df['MINAGEARRIVAL'])\n",
    "print(correlation)"
   ]
  },
  {
   "cell_type": "markdown",
   "metadata": {},
   "source": [
    "So there is a moderate correlation between these two columns - which is what I would expect. Meaning if the children arrive in Germany at an older age there is more likelihood that they will be older than their classmates. "
   ]
  },
  {
   "cell_type": "markdown",
   "metadata": {},
   "source": [
    "Let's visualise this with a scatter plot. "
   ]
  },
  {
   "cell_type": "code",
   "execution_count": 19,
   "metadata": {},
   "outputs": [
    {
     "data": {
      "image/png": "[encoded data removed]",
      "text/plain": [
       "<Figure size 432x288 with 1 Axes>"
      ]
     },
     "metadata": {
      "needs_background": "light"
     },
     "output_type": "display_data"
    }
   ],
   "source": [
    "import matplotlib.pyplot as plt\n",
    "\n",
    "# Create a scatter plot\n",
    "plt.scatter(df['ASDAGE'], df['MINAGEARRIVAL'], alpha=0.5)  # Alpha controls the transparency of points\n",
    "\n",
    "# Add labels and title\n",
    "plt.xlabel('ASDAGE')\n",
    "plt.ylabel('MINAGEARRIVAL')\n",
    "plt.title('Scatter Plot of Currrent Age vs Age of Arrival in Germany')\n",
    "\n",
    "# Display the plot\n",
    "plt.show()"
   ]
  },
  {
   "cell_type": "markdown",
   "metadata": {},
   "source": [
    "This was actually quite useful. As we only have a small number of students we can see each indiviudal student on the graph. There are two students who are aged 12 and arrived relatively recently in Germany. However, two recent arrivals are the same age as the rest of the class. It would be better however to do this correlation with the whole dataset (including children who are not Arabic speakers and who were born in Germany, with different colours showing these different groups). "
   ]
  },
  {
   "cell_type": "markdown",
   "metadata": {},
   "source": [
    "Now let's do a groupby by age to understand more about the older students compared to their peers. "
   ]
  },
  {
   "cell_type": "code",
   "execution_count": 24,
   "metadata": {},
   "outputs": [
    {
     "data": {
      "text/plain": [
       "ASDAGE\n",
       "9.67     3.000000\n",
       "9.75          NaN\n",
       "9.83     3.000000\n",
       "9.92     3.000000\n",
       "10.00    3.000000\n",
       "10.17    3.000000\n",
       "10.25    3.000000\n",
       "10.33    4.600000\n",
       "10.42    4.000000\n",
       "10.67    0.000000\n",
       "10.75    3.000000\n",
       "11.00    3.000000\n",
       "11.08    6.000000\n",
       "11.17    6.000000\n",
       "11.25    4.666667\n",
       "11.42    3.000000\n",
       "11.58    6.000000\n",
       "11.67    6.000000\n",
       "12.00    8.000000\n",
       "12.33    8.000000\n",
       "Name: MINAGEARRIVAL, dtype: float64"
      ]
     },
     "execution_count": 24,
     "metadata": {},
     "output_type": "execute_result"
    }
   ],
   "source": [
    "df.groupby(\"ASDAGE\")[\"MINAGEARRIVAL\"].mean()"
   ]
  },
  {
   "cell_type": "markdown",
   "metadata": {},
   "source": [
    "I need to round the ages up so that they become categories. (9,10,11,12) etc."
   ]
  },
  {
   "cell_type": "code",
   "execution_count": 25,
   "metadata": {},
   "outputs": [
    {
     "name": "stdout",
     "output_type": "stream",
     "text": [
      "   rounded_ages  MINAGEARRIVAL\n",
      "0          10.0       3.478261\n",
      "1          11.0       3.888889\n",
      "2          12.0       7.000000\n"
     ]
    }
   ],
   "source": [
    "# Round ages to the nearest integer\n",
    "df['rounded_ages'] = df['ASDAGE'].round()\n",
    "\n",
    "# Group by rounded ages and perform aggregation\n",
    "grouped_data = df.groupby('rounded_ages').agg({'MINAGEARRIVAL': 'mean'})\n",
    "\n",
    "# Reset index to make 'rounded_ages' a regular column\n",
    "grouped_data = grouped_data.reset_index()\n",
    "\n",
    "# Print or further process grouped data\n",
    "print(grouped_data)"
   ]
  },
  {
   "cell_type": "markdown",
   "metadata": {},
   "source": [
    "That's pretty interesting. As this is not causation we should also look at this the other way round, I think. "
   ]
  },
  {
   "cell_type": "code",
   "execution_count": 26,
   "metadata": {},
   "outputs": [
    {
     "name": "stdout",
     "output_type": "stream",
     "text": [
      "                  ASDAGE\n",
      "MINAGEARRIVAL           \n",
      "0.0            10.363333\n",
      "3.0            10.318095\n",
      "6.0            10.833750\n",
      "8.0            11.477500\n"
     ]
    }
   ],
   "source": [
    "# Group by rounded ages and perform aggregation\n",
    "grouped_by_agearrival = df.groupby('MINAGEARRIVAL').agg({'ASDAGE': 'mean'})\n",
    "\n",
    "# Print or further process grouped data\n",
    "print(grouped_by_agearrival)"
   ]
  },
  {
   "cell_type": "markdown",
   "metadata": {},
   "source": [
    "I think want to group by age of arrival - I think that will yield interesting comparisons. "
   ]
  },
  {
   "cell_type": "code",
   "execution_count": 27,
   "metadata": {},
   "outputs": [
    {
     "name": "stdout",
     "output_type": "stream",
     "text": [
      "                ASBG10C\n",
      "MINAGEARRIVAL          \n",
      "0.0            1.000000\n",
      "3.0            2.055556\n",
      "6.0            1.625000\n",
      "8.0            1.500000\n"
     ]
    }
   ],
   "source": [
    "mean_of_belonging = df.groupby('MINAGEARRIVAL').agg({'ASBG10C': 'mean'})\n",
    "print(mean_of_belonging)"
   ]
  },
  {
   "cell_type": "code",
   "execution_count": 28,
   "metadata": {},
   "outputs": [
    {
     "name": "stdout",
     "output_type": "stream",
     "text": [
      "               ASBG10D\n",
      "MINAGEARRIVAL         \n",
      "0.0              3.000\n",
      "3.0              2.000\n",
      "6.0              2.875\n",
      "8.0              1.250\n"
     ]
    }
   ],
   "source": [
    "mean_of_ASBG10D = df.groupby('MINAGEARRIVAL').agg({'ASBG10D': 'mean'})\n",
    "print(mean_of_ASBG10D)"
   ]
  },
  {
   "cell_type": "code",
   "execution_count": 29,
   "metadata": {},
   "outputs": [
    {
     "name": "stdout",
     "output_type": "stream",
     "text": [
      "                ASBG11A\n",
      "MINAGEARRIVAL          \n",
      "0.0            1.500000\n",
      "3.0            2.722222\n",
      "6.0            3.250000\n",
      "8.0            2.750000\n"
     ]
    }
   ],
   "source": [
    "mean_of_ASBG11A = df.groupby('MINAGEARRIVAL').agg({'ASBG11A': 'mean'})\n",
    "print(mean_of_ASBG11A)"
   ]
  },
  {
   "cell_type": "code",
   "execution_count": 39,
   "metadata": {},
   "outputs": [
    {
     "name": "stdout",
     "output_type": "stream",
     "text": [
      "                 ASRREA01\n",
      "MINAGEARRIVAL            \n",
      "0.0            468.457240\n",
      "3.0            470.774879\n",
      "6.0            473.997219\n",
      "8.0            458.578480\n"
     ]
    }
   ],
   "source": [
    "mean_of_ASBG11A = df.groupby('MINAGEARRIVAL').agg({'ASRREA01': 'mean'})\n",
    "print(mean_of_ASBG11A)"
   ]
  },
  {
   "cell_type": "markdown",
   "metadata": {},
   "source": [
    "Based on this one level of comprehension (ASRREA01), there does seem to be a reduced level of comprehension for the children that have arrived at a older age in Germany. But not by a lot. It would be interesting to sum all the comprehensions and get a score for that."
   ]
  },
  {
   "cell_type": "markdown",
   "metadata": {},
   "source": [
    "So what I want to do is add new columns which are the mean of the reading and lit scores etc. for each child. "
   ]
  },
  {
   "cell_type": "code",
   "execution_count": 40,
   "metadata": {},
   "outputs": [],
   "source": [
    "df[['READING', 'LITPURPOSE', 'INFORMATIONPURPOSE','INTERPRETING','STRAIGHTFORWARDPROCESS']] = 0"
   ]
  },
  {
   "cell_type": "code",
   "execution_count": 41,
   "metadata": {},
   "outputs": [],
   "source": [
    "column_location = df.columns.get_loc('ASRREA01')"
   ]
  },
  {
   "cell_type": "code",
   "execution_count": 42,
   "metadata": {},
   "outputs": [
    {
     "name": "stdout",
     "output_type": "stream",
     "text": [
      "224\n"
     ]
    }
   ],
   "source": [
    "print(column_location)"
   ]
  },
  {
   "cell_type": "code",
   "execution_count": 43,
   "metadata": {},
   "outputs": [],
   "source": [
    "df['READING'] = df.iloc[:, 224:228].mean(axis=1)"
   ]
  },
  {
   "cell_type": "code",
   "execution_count": 44,
   "metadata": {},
   "outputs": [
    {
     "name": "stdout",
     "output_type": "stream",
     "text": [
      "0     577.138923\n",
      "1     452.542425\n",
      "2     420.842782\n",
      "3     454.598360\n",
      "4     447.010058\n",
      "5     538.001820\n",
      "6     423.408785\n",
      "7     433.934038\n",
      "8     402.836423\n",
      "9     456.197515\n",
      "10    444.663462\n",
      "11    599.028897\n",
      "12    557.190960\n",
      "13    414.011510\n",
      "14    318.563860\n",
      "15    475.901763\n",
      "16    441.995052\n",
      "17    416.214587\n",
      "18    564.971480\n",
      "19    515.122817\n",
      "20    589.231092\n",
      "21    487.569993\n",
      "22    455.731060\n",
      "23    376.586230\n",
      "24    548.384817\n",
      "25    502.332103\n",
      "26    523.436978\n",
      "27    450.272837\n",
      "28    459.512355\n",
      "29    409.586383\n",
      "30    473.728673\n",
      "31    489.372520\n",
      "32    492.739300\n",
      "33    395.918005\n",
      "34    431.346985\n",
      "35    399.595235\n",
      "36    441.416990\n",
      "Name: READING, dtype: float64\n"
     ]
    }
   ],
   "source": [
    "print(df['READING'])"
   ]
  },
  {
   "cell_type": "code",
   "execution_count": 45,
   "metadata": {},
   "outputs": [
    {
     "name": "stdout",
     "output_type": "stream",
     "text": [
      "Index(['ASRREA01', 'ASRREA02', 'ASRREA03', 'ASRREA04', 'ASRREA05', 'ASRLIT01',\n",
      "       'ASRLIT02', 'ASRLIT03', 'ASRLIT04', 'ASRLIT05', 'ASRINF01', 'ASRINF02',\n",
      "       'ASRINF03', 'ASRINF04', 'ASRINF05', 'ASRIIE01', 'ASRIIE02', 'ASRIIE03',\n",
      "       'ASRIIE04', 'ASRIIE05', 'ASRRSI01', 'ASRRSI02', 'ASRRSI03', 'ASRRSI04',\n",
      "       'ASRRSI05'],\n",
      "      dtype='object')\n"
     ]
    }
   ],
   "source": [
    "selected_columns = df.columns[224:249]\n",
    "\n",
    "# Print the selected column names\n",
    "print(selected_columns)"
   ]
  },
  {
   "cell_type": "code",
   "execution_count": 36,
   "metadata": {},
   "outputs": [],
   "source": [
    "pivot_df = df.pivot_table(values='ASRREA01', index='MINAGEARRIVAL', columns=['ASBG10C'], aggfunc='mean')"
   ]
  },
  {
   "cell_type": "code",
   "execution_count": 37,
   "metadata": {},
   "outputs": [
    {
     "data": {
      "text/html": [
       "<div>\n",
       "<style scoped>\n",
       "    .dataframe tbody tr th:only-of-type {\n",
       "        vertical-align: middle;\n",
       "    }\n",
       "\n",
       "    .dataframe tbody tr th {\n",
       "        vertical-align: top;\n",
       "    }\n",
       "\n",
       "    .dataframe thead th {\n",
       "        text-align: right;\n",
       "    }\n",
       "</style>\n",
       "<table border=\"1\" class=\"dataframe\">\n",
       "  <thead>\n",
       "    <tr style=\"text-align: right;\">\n",
       "      <th>ASBG10C</th>\n",
       "      <th>1.0</th>\n",
       "      <th>2.0</th>\n",
       "      <th>3.0</th>\n",
       "      <th>9.0</th>\n",
       "    </tr>\n",
       "    <tr>\n",
       "      <th>MINAGEARRIVAL</th>\n",
       "      <th></th>\n",
       "      <th></th>\n",
       "      <th></th>\n",
       "      <th></th>\n",
       "    </tr>\n",
       "  </thead>\n",
       "  <tbody>\n",
       "    <tr>\n",
       "      <th>0.0</th>\n",
       "      <td>488.734350</td>\n",
       "      <td>NaN</td>\n",
       "      <td>NaN</td>\n",
       "      <td>NaN</td>\n",
       "    </tr>\n",
       "    <tr>\n",
       "      <th>3.0</th>\n",
       "      <td>450.431912</td>\n",
       "      <td>461.96412</td>\n",
       "      <td>480.270687</td>\n",
       "      <td>576.27138</td>\n",
       "    </tr>\n",
       "    <tr>\n",
       "      <th>6.0</th>\n",
       "      <td>496.508582</td>\n",
       "      <td>410.73690</td>\n",
       "      <td>449.348970</td>\n",
       "      <td>NaN</td>\n",
       "    </tr>\n",
       "    <tr>\n",
       "      <th>8.0</th>\n",
       "      <td>462.482907</td>\n",
       "      <td>NaN</td>\n",
       "      <td>446.865200</td>\n",
       "      <td>NaN</td>\n",
       "    </tr>\n",
       "  </tbody>\n",
       "</table>\n",
       "</div>"
      ],
      "text/plain": [
       "ASBG10C               1.0        2.0         3.0        9.0\n",
       "MINAGEARRIVAL                                              \n",
       "0.0            488.734350        NaN         NaN        NaN\n",
       "3.0            450.431912  461.96412  480.270687  576.27138\n",
       "6.0            496.508582  410.73690  449.348970        NaN\n",
       "8.0            462.482907        NaN  446.865200        NaN"
      ]
     },
     "execution_count": 37,
     "metadata": {},
     "output_type": "execute_result"
    }
   ],
   "source": [
    "pivot_df"
   ]
  },
  {
   "cell_type": "markdown",
   "metadata": {},
   "source": [
    "Should I do the comparison with Turkey quite soon? Like now?"
   ]
  },
  {
   "cell_type": "code",
   "execution_count": null,
   "metadata": {},
   "outputs": [],
   "source": [
    "## This is how you set the criteria for a new column, A is the new column\n",
    "df.loc[(df['B'] > 20) & (df['C'] == 'X'), 'A'] *= 2"
   ]
  }
 ],
 "metadata": {
  "kernelspec": {
   "display_name": "Python 3",
   "language": "python",
   "name": "python3"
  },
  "language_info": {
   "codemirror_mode": {
    "name": "ipython",
    "version": 3
   },
   "file_extension": ".py",
   "mimetype": "text/x-python",
   "name": "python",
   "nbconvert_exporter": "python",
   "pygments_lexer": "ipython3",
   "version": "3.7.6"
  }
 },
 "nbformat": 4,
 "nbformat_minor": 4
}
