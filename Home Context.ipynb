{
 "cells": [
  {
   "cell_type": "code",
   "execution_count": 1,
   "metadata": {},
   "outputs": [
    {
     "name": "stdout",
     "output_type": "stream",
     "text": [
      "<class 'pandas.core.frame.DataFrame'>\n",
      "RangeIndex: 4611 entries, 0 to 4610\n",
      "Columns: 118 entries, IDCNTRY to SCOPE\n",
      "dtypes: float64(108), int64(10)\n",
      "memory usage: 4.2 MB\n",
      "['IDCNTRY', 'IDPOP', 'IDGRADER', 'IDGRADE', 'WAVE', 'IDSCHOOL', 'IDCLASS', 'IDSTUD', 'ITLANG_HQ', 'LCID_HQ', 'ASBH01A', 'ASBH01B', 'ASBH01C', 'ASBH01D', 'ASBH01E', 'ASBH01F', 'ASBH01G', 'ASBH01H', 'ASBH01I', 'ASBH01J', 'ASBH01K', 'ASBH01L', 'ASBH01M', 'ASBH01N', 'ASBH01O', 'ASBH01P', 'ASBH01Q', 'ASBH01R', 'ASBH02A', 'ASBH02B', 'ASBH03A', 'ASBH03B', 'ASBH03C', 'ASBH03D', 'ASBH03E', 'ASBH03F', 'ASBH04', 'ASBH05AA', 'ASBH05AB', 'ASBH05B', 'ASBH06', 'ASBH07A', 'ASBH07B', 'ASBH07C', 'ASBH07D', 'ASBH07E', 'ASBH07F', 'ASBH07G', 'ASBH08A', 'ASBH08B', 'ASBH08C', 'ASBH08D', 'ASBH08E', 'ASBH08F', 'ASBH09', 'ASBH10', 'ASBH11A', 'ASBH11B', 'ASBH11C', 'ASBH11D', 'ASBH11E', 'ASBH11F', 'ASBH11G', 'ASBH11H', 'ASBH12', 'ASBH13', 'ASBH14A', 'ASBH14B', 'ASBH14C', 'ASBH15A', 'ASBH15B', 'ASBH16', 'ASBH17A', 'ASBH17B', 'ASBH18AA', 'ASBH18AB', 'ASBH18BA', 'ASBH18BB', 'ASBH18CA', 'ASBH18CB', 'ASBH18DA', 'ASBH18DB', 'ASBH18EA', 'ASBH18EB', 'ASBH18FA', 'ASBH18FB', 'ASBH18GA', 'ASBH18GB', 'ASBH19', 'ASBH20A', 'ASBH20B', 'ASBH20C', 'ASBH21A', 'ASBH21B', 'ASBH21C', 'ASBH21D', 'ASBH22', 'ASBGHRL', 'ASDGHRL', 'ASBHSES', 'ASDHSES', 'ASBHELA', 'ASDHELA', 'ASBHENA', 'ASDHENA', 'ASBHELN', 'ASDHELN', 'ASBHELT', 'ASDHELT', 'ASBHPCS', 'ASDHPCS', 'ASBHPLR', 'ASDHPLR', 'ASDHAPS', 'ASDHEDUP', 'ASDHOCCP', 'VERSION', 'SCOPE']\n"
     ]
    }
   ],
   "source": [
    "import pandas as pd\n",
    "import numpy as np\n",
    "pd.set_option(\"display.max_columns\", None)\n",
    "pd.set_option(\"display.max_rows\", None)\n",
    "df = pd.read_excel(\"ASHDEUR5.xlsx\")\n",
    "df.info()\n",
    "print(df.columns.tolist())"
   ]
  },
  {
   "cell_type": "markdown",
   "metadata": {},
   "source": [
    "## From a look at the codebook for this dataset, we can see that ASBH01 refers to, ASBH02 refers to  ...."
   ]
  },
  {
   "cell_type": "code",
   "execution_count": 54,
   "metadata": {},
   "outputs": [],
   "source": [
    "pupils_highimmigrantpopschools = [50110301, 50110302, 50110303, 50110304, 50110305, 50110306, 50110307, 50110308, 50110309, 50110310, 50110311, 50110312, 50110313, 50110314, 50110315, 50110316, 50110317, 50110318, 50110319, 50110320, 50110321, 50110322, 50110323, 50130101, 50130102, 50130103, 50130104, 50130105, 50130106, 50130107, 50130108, 50130110, 50130111, 50130112, 50130113, 50130114, 50130115, 50130116, 50130117, 50130118, 50130119, 50130120, 50130121, 50130122, 50130123, 50130124, 50160201, 50160202, 50160203, 50160204, 50160205, 50160206, 50160207, 50160208, 50160209, 50160210, 50160211, 50160212, 50160213, 50160214, 50160215, 50160216, 50160218, 50160220, 50160221, 50160222, 50160223, 50160224, 50180201, 50180202, 50180203, 50180204, 50180205, 50180206, 50180207, 50180208, 50180209, 50180210, 50180211, 50180212, 50180213, 50180214, 50180215, 50180216, 50180217, 50180219, 50180221, 50180222, 50180223, 50180224, 50180225, 50180226, 50250201, 50250202, 50250203, 50250204, 50250205, 50250206, 50250207, 50250208, 50250209, 50250211, 50250212, 50250213, 50260101, 50260102, 50260103, 50260104, 50260105, 50260106, 50260107, 50260108, 50260109, 50260110, 50260111, 50260112, 50260113, 50260114, 50260115, 50260116, 50260117, 50260118, 50260119, 50260120, 50260121, 50260122, 50260123, 50260124, 50330101, 50330102, 50330103, 50330104, 50330105, 50330106, 50330108, 50330109, 50330110, 50330111, 50330113, 50330114, 50330115, 50330116, 50330117, 50330118, 50330119, 50330120, 50330121, 50360201, 50360202, 50360203, 50360204, 50360205, 50360206, 50360207, 50360209, 50360210, 50360211, 50360212, 50360213, 50360214, 50360215, 50400101, 50400102, 50400103, 50400104, 50400105, 50400106, 50400107, 50400108, 50400109, 50400110, 50400111, 50400112, 50400113, 50400114, 50400115, 50400116, 50400119, 50400120, 50400122, 50620401, 50620402, 50620403, 50620404, 50620405, 50620406, 50620407, 50620408, 50620409, 50620410, 50620411, 50620412, 50620413, 50620414, 50620415, 50620416, 50620417, 50620418, 50620419, 50620420, 50750401, 50750402, 50750403, 50750405, 50750406, 50750408, 50750409, 50750410, 50750411, 50750412, 50750413, 50750414, 50750415, 50750416, 50750417, 50750418, 50750419, 50750420, 50750421, 50750422, 50750423, 50750425, 50780101, 50780102, 50780103, 50780104, 50780105, 50780106, 50780107, 50780108, 50780109, 50780110, 50780111, 50780112, 50780113, 50780114, 50780115, 50780116, 50780117, 50780118, 50810401, 50810402, 50810403, 50810404, 50810405, 50810406, 50810407, 50810408, 50810409, 50810410, 50810411, 50810413, 50810414, 50810415, 50840101, 50840102, 50840103, 50840104, 50840105, 50840106, 50840107, 50840108, 50840109, 50840110, 50840111, 50840112, 50840113, 50840114, 50840115, 50840116, 50840117, 50870201, 50870202, 50870203, 50870204, 50870205, 50870206, 50870207, 50870208, 50870209, 50870210, 50870211, 50870212, 50870213, 50870214, 50870215, 50870216, 50870217, 50870218, 50870220, 50870221, 50870222, 50870223, 50870224, 50900101, 50900102, 50900103, 50900104, 50900105, 50900106, 50900108, 50900109, 50900110, 50900111, 50900112, 50900113, 50900114, 50900115, 50900116, 50900117, 50900118, 50900119, 50900120, 50900121, 50900122, 50900123, 50900124, 50900125, 50990101, 50990102, 50990103, 50990104, 50990105, 50990106, 50990601, 50990602, 50990603, 50990604, 50990605, 50990606, 51010201, 51010202, 51010203, 51010204, 51010205, 51010206, 51010207, 51010209, 51010210, 51010211, 51010212, 51010213, 51010214, 51010215, 51010216, 51010217, 51010218, 51010219, 51010221, 51010222, 51010223, 51010224, 51060201, 51060202, 51060204, 51060205, 51060206, 51060207, 51060208, 51060210, 51060211, 51060212, 51060213, 51060214, 51060215, 51060216, 51060217, 51060218, 51060219, 51060220, 51060221, 51060222, 51060223, 51060224, 51060225, 51080201, 51080202, 51080203, 51080204, 51080205, 51080206, 51080207, 51080208, 51080209, 51080210, 51230201, 51230202, 51230203, 51230204, 51230205, 51230206, 51230207, 51230208, 51230209, 51230210, 51230211, 51230212, 51230213, 51230214, 51230215, 51340201, 51340202, 51340203, 51340204, 51340205, 51340207, 51340209, 51340210, 51340211, 51340212, 51340213, 51340214, 51340215, 51340216, 51340217, 51340218, 51340219, 51370201, 51370202, 51370203, 51370204, 51370205, 51370206, 51370207, 51370208, 51370209, 51370210, 51370211, 51370212, 51370213, 51370214, 51370215, 51370216, 51370217, 51370218, 51370219, 51370220, 51370221, 51370222, 51400201, 51400202, 51400203, 51400204, 51400207, 51400208, 51400209, 51400210, 51400211, 51400212, 51400214, 51400215, 51400216, 51400217, 51400218, 51400220, 51400221, 51400222, 51400223, 51440301, 51440302, 51440303, 51440304, 51440306, 51440307, 51440308, 51440309, 51440310, 51440312, 51440313, 51440316, 51440317, 51490101, 51490102, 51490103, 51490105, 51490106, 51490107, 51490109, 51490110, 51490111, 51490112, 51490113, 51490114, 51490115, 51490116, 51490117, 51490118, 51490119, 51490120, 51490121, 51490122, 51490123, 51490124, 51560101, 51560102, 51560103, 51560104, 51560105, 51560106, 51560107, 51560108, 51560110, 51560111, 51560112, 51560113, 51560114, 51560115, 51560116, 51560117, 51570201, 51570202, 51570203, 51570204, 51570205, 51570206, 51570208, 51570209, 51570210, 51570211, 51570212, 51570213, 51570214, 51570215, 51570216, 51580101, 51580102, 51580103, 51580104, 51580105, 51580107, 51580108, 51580109, 51580110, 51580112, 51580113, 51580114, 51580115, 51590302, 51590303, 51590304, 51590305, 51590306, 51590307, 51590308, 51590309, 51590310, 51610201, 51610202, 51610203, 51610204, 51610205, 51610206, 51610209, 51610210, 51610211, 51610212, 51610213, 51610215, 51610216, 51610217, 51610218, 51610219, 51610221, 51630101, 51630102, 51630103, 51630104, 51630105, 51630106, 51630107, 51630108, 51630109, 51630110, 51630111, 51630113, 51630114, 51630115, 51640101, 51640102, 51640104, 51640105, 51640106, 51640107, 51640108, 51640109, 51640111, 51640112, 51640113, 51640116, 51640117, 51640118, 51640119, 51640120, 51640122, 51690202, 51690203, 51690204, 51690205, 51690206, 51690207, 51690208, 51690209, 51690210, 51690211, 51690212, 51690213, 51700101, 51700102, 51700103, 51700104, 51700105, 51700106, 51700107, 51700108, 51700109, 51700110, 51700111, 51700112, 51700113, 51700114, 51700115, 51700116, 51700117, 51700118, 51700119, 51710102, 51710106, 51710107, 51710108, 51710109, 51710110, 51710111, 51710112, 51710113, 51710114, 51710115, 51710116, 51710117, 51710118, 51710119, 51710120, 51900101, 51900102, 51900103, 51900104, 51900105, 51900106, 51900107, 51900108, 51900109, 51900110, 51900112, 51900113, 51910202, 51910204, 51910205, 51910206, 51910207, 51910208, 51910209, 51910210, 51910211, 51910212, 51910214, 51910215, 51910216, 51910217, 51910219, 51910221, 51910222, 51930201, 51930202, 51930203, 51930204, 51930206, 51930207, 51930208, 51930209, 51930210, 51930211, 51930212, 51930214, 51930215, 51930216, 51930217, 51930218, 51930219, 51930220, 51960201, 51960202, 51960203, 51960204, 51960205, 51960207, 51960208, 51960209, 51960210, 51960211, 51960212, 51960213, 51960214, 51960216, 51960217, 51960218, 51960219, 51960220, 51960221, 51960222, 51960223, 51960224, 51960225, 51960226, 52050601, 52050602, 52050603, 52050604, 52050605, 52050606, 52050607, 52050608, 52050610, 52050611, 52070301, 52070303, 52070305, 52070307, 52070310, 52070314, 52070317, 52070318, 52070321, 52070323, 52090101, 52090102, 52090104, 52090105, 52090106, 52090107, 52090108, 52090109, 52090110, 52090111, 52090112, 52090113, 52090114, 52090115, 52090116, 52090117, 52090118, 52090119, 52090121, 52090122, 52090123, 52090124, 52090125, 52090126, 52090127, 52100202, 52100203, 52100204, 52100205, 52100206, 52100207, 52100208, 52100209, 52100210, 52100211, 52100212, 52100213, 52100214, 52100215, 52100216, 52100217, 52100218, 52100219, 52100220, 52100221, 52100222, 52100223, 52190301, 52190302, 52190303, 52190304, 52190305, 52190306, 52190307, 52190308, 52190309, 52190310, 52190312, 52190313, 52190314, 52190315, 52190316, 52190317, 52190318, 52190319, 52190320, 52190321, 52190322, 52190323, 52220201, 52220202, 52220203, 52220205, 52220206, 52220207, 52220208, 52220209, 52220210, 52220211, 52220212, 52220213, 52290101, 52290102, 52290103, 52290104, 52290105, 52290106, 52290107, 52290108, 52290109, 52290110, 52290111, 52290112, 52290113, 52290114, 52290115, 52290116, 52290117, 52290118, 52290119, 52290120, 52290121, 52290122, 52290123, 52290124, 52290125, 52300201, 52300202, 52300203, 52300204, 52300205, 52300206, 52300207, 52300208, 52300209, 52300210, 52300212, 52300213, 52300214, 52300215, 52300216, 52300217, 52300218, 52300219, 52300220, 52300221, 52300222, 52310203, 52310204, 52310205, 52310206, 52310207, 52310208, 52310209, 52310210, 52310212, 52310214, 52310215, 52310216, 52310217, 52310218, 52310219, 52310221, 52310222, 52310223, 52310224, 52370305, 52370307, 52370309, 52370310, 52370311, 52370313, 52370315, 52370316, 52370317, 52370319]"
   ]
  },
  {
   "cell_type": "code",
   "execution_count": 3,
   "metadata": {},
   "outputs": [
    {
     "name": "stdout",
     "output_type": "stream",
     "text": [
      "<class 'pandas.core.frame.DataFrame'>\n",
      "Int64Index: 888 entries, 151 to 4027\n",
      "Columns: 118 entries, IDCNTRY to SCOPE\n",
      "dtypes: float64(108), int64(10)\n",
      "memory usage: 825.6 KB\n"
     ]
    }
   ],
   "source": [
    "filtered_df = df[df['IDSTUD'].isin(pupils_highimmigrantpopschools)]\n",
    "filtered_df.info()"
   ]
  },
  {
   "cell_type": "markdown",
   "metadata": {},
   "source": [
    "I could have done the above using the school ID instead which is a shorter list but oh well. "
   ]
  },
  {
   "cell_type": "markdown",
   "metadata": {},
   "source": [
    "Now we will see how many of these children were born in a foreign country using the variable **ASBH02A**"
   ]
  },
  {
   "cell_type": "code",
   "execution_count": 4,
   "metadata": {},
   "outputs": [
    {
     "data": {
      "text/plain": [
       "1.0    343\n",
       "2.0     51\n",
       "9.0     12\n",
       "Name: ASBH02A, dtype: int64"
      ]
     },
     "execution_count": 4,
     "metadata": {},
     "output_type": "execute_result"
    }
   ],
   "source": [
    "filtered_df[\"ASBH02A\"].value_counts()"
   ]
  },
  {
   "cell_type": "markdown",
   "metadata": {},
   "source": [
    "We should have more data than that... the above is to see how many of these pupils were born in the country. Maybe there are some null values."
   ]
  },
  {
   "cell_type": "code",
   "execution_count": 5,
   "metadata": {},
   "outputs": [],
   "source": [
    "null_count = filtered_df['ASBH02A'].isnull().sum()"
   ]
  },
  {
   "cell_type": "code",
   "execution_count": 6,
   "metadata": {},
   "outputs": [
    {
     "name": "stdout",
     "output_type": "stream",
     "text": [
      "482\n"
     ]
    }
   ],
   "source": [
    "print(null_count)"
   ]
  },
  {
   "cell_type": "markdown",
   "metadata": {},
   "source": [
    "That's a shame - perhaps they declined to answer. In which case we might want to look at all children not born in Germany across all schools..."
   ]
  },
  {
   "cell_type": "markdown",
   "metadata": {},
   "source": [
    "Let's look at the ages these children came to the country.  **ASBH02B 1: Younger than 3 years old; 2: 3 to 5 years old; 3: 6 to 7 years old; 4: 8 years old or older**"
   ]
  },
  {
   "cell_type": "code",
   "execution_count": 7,
   "metadata": {},
   "outputs": [
    {
     "data": {
      "text/plain": [
       "6.0    343\n",
       "2.0     24\n",
       "9.0     12\n",
       "4.0     11\n",
       "3.0      9\n",
       "1.0      7\n",
       "Name: ASBH02B, dtype: int64"
      ]
     },
     "execution_count": 7,
     "metadata": {},
     "output_type": "execute_result"
    }
   ],
   "source": [
    "filtered_df[\"ASBH02B\"].value_counts()"
   ]
  },
  {
   "cell_type": "markdown",
   "metadata": {},
   "source": [
    "This means we have 11 students who arrived in the last couple of years as fourth-graders are 9/10"
   ]
  },
  {
   "cell_type": "markdown",
   "metadata": {},
   "source": [
    "We should check their age though and whether Germany has a policy of putting older children in lower grades. "
   ]
  },
  {
   "cell_type": "markdown",
   "metadata": {},
   "source": [
    "As we only have 11 students who arrived recently, I think it might actually be good to do an initial study of these new arrivals from all schools and then do a comparative analysis of a few schools after that. Let's see how many immigrant kids we have total (meaning those born in another country)"
   ]
  },
  {
   "cell_type": "code",
   "execution_count": 8,
   "metadata": {},
   "outputs": [
    {
     "data": {
      "text/plain": [
       "6.0    2317\n",
       "2.0      75\n",
       "9.0      60\n",
       "1.0      53\n",
       "3.0      36\n",
       "4.0      32\n",
       "Name: ASBH02B, dtype: int64"
      ]
     },
     "execution_count": 8,
     "metadata": {},
     "output_type": "execute_result"
    }
   ],
   "source": [
    "df[\"ASBH02B\"].value_counts()"
   ]
  },
  {
   "cell_type": "code",
   "execution_count": 78,
   "metadata": {},
   "outputs": [],
   "source": [
    "##Using shape[0] to count the rows."
   ]
  },
  {
   "cell_type": "code",
   "execution_count": 77,
   "metadata": {},
   "outputs": [
    {
     "name": "stdout",
     "output_type": "stream",
     "text": [
      "196\n"
     ]
    }
   ],
   "source": [
    "number_immigrant_children = df[df[\"ASBH02B\"]< 6.0].shape[0]\n",
    "print(number_immigrant_children)"
   ]
  },
  {
   "cell_type": "markdown",
   "metadata": {},
   "source": [
    "How many children spoke German before they started school?  **ASBH03A (1 is yes, 2 is no)**"
   ]
  },
  {
   "cell_type": "code",
   "execution_count": 10,
   "metadata": {},
   "outputs": [
    {
     "data": {
      "text/plain": [
       "1.0    2258\n",
       "9.0     166\n",
       "2.0     149\n",
       "Name: ASBH03A, dtype: int64"
      ]
     },
     "execution_count": 10,
     "metadata": {},
     "output_type": "execute_result"
    }
   ],
   "source": [
    "df['ASBH03A'].value_counts()"
   ]
  },
  {
   "cell_type": "markdown",
   "metadata": {},
   "source": [
    "2258 spoke German before they started school and 149 didn't. "
   ]
  },
  {
   "cell_type": "markdown",
   "metadata": {},
   "source": [
    "Let's see how many children spoke Arabic before they started school. **ASBH03B**\n",
    "The other languages asked about in the test are Polish, Russian and Turkish, so we are primarily looking at Arabic speakers as potential refugees. "
   ]
  },
  {
   "cell_type": "code",
   "execution_count": 11,
   "metadata": {},
   "outputs": [
    {
     "data": {
      "text/plain": [
       "2.0    2347\n",
       "9.0     171\n",
       "1.0      55\n",
       "Name: ASBH03B, dtype: int64"
      ]
     },
     "execution_count": 11,
     "metadata": {},
     "output_type": "execute_result"
    }
   ],
   "source": [
    "df['ASBH03B'].value_counts()"
   ]
  },
  {
   "cell_type": "markdown",
   "metadata": {},
   "source": [
    "Out of all the children asked 55 are native Arabic speakers. "
   ]
  },
  {
   "cell_type": "markdown",
   "metadata": {},
   "source": [
    "Let's find the Arabic speaking children who were not born in Germany."
   ]
  },
  {
   "cell_type": "code",
   "execution_count": 31,
   "metadata": {},
   "outputs": [],
   "source": [
    "arabic_speaking_pupils_IDs = df.query(\"ASBH03B==1.0\")[\"IDSTUD\"].to_list()"
   ]
  },
  {
   "cell_type": "code",
   "execution_count": 27,
   "metadata": {},
   "outputs": [
    {
     "name": "stdout",
     "output_type": "stream",
     "text": [
      "[50010214, 50110317, 50180208, 50180211, 50180216, 50210316, 50250201, 50390103, 50400103, 50440104, 50510215, 50720310, 50750403, 50870204, 50870207, 51010213, 51060220, 51090111, 51110318, 51330208, 51370209, 51400202, 51420113, 51440306, 51440317, 51460211, 51460212, 51520103, 51600211, 51660303, 51720216, 51810312, 51860212, 51900106, 51910205, 51960204, 51960205, 51960207, 51960210, 51960213, 51960217, 51980107, 52030101, 52100212, 52250303, 52260303, 52310209, 52310217, 52310224, 52470104, 52490422, 52510311, 52510312, 52590107, 52660213]\n"
     ]
    }
   ],
   "source": [
    "print(arabic_speaking_pupils_IDs)"
   ]
  },
  {
   "cell_type": "code",
   "execution_count": 79,
   "metadata": {},
   "outputs": [],
   "source": [
    "arabic_speakers_df = df[df['IDSTUD'].isin(arabic_speaking_pupils_IDs)].copy()"
   ]
  },
  {
   "cell_type": "code",
   "execution_count": 80,
   "metadata": {},
   "outputs": [
    {
     "data": {
      "text/plain": [
       "2    37\n",
       "1    17\n",
       "9     1\n",
       "Name: ASBH02A, dtype: int64"
      ]
     },
     "execution_count": 80,
     "metadata": {},
     "output_type": "execute_result"
    }
   ],
   "source": [
    "arabic_speakers_df[\"ASBH02A\"].value_counts()"
   ]
  },
  {
   "cell_type": "markdown",
   "metadata": {},
   "source": [
    "37 of our Arabic speakers were not born in Germany and 17 were. "
   ]
  },
  {
   "cell_type": "markdown",
   "metadata": {},
   "source": [
    "Let's look at the ages these children came to the country. ASBH02B 1: Younger than 3 years old; 2: 3 to 5 years old; 3: 6 to 7 years old; 4: 8 years old or older."
   ]
  },
  {
   "cell_type": "code",
   "execution_count": 81,
   "metadata": {},
   "outputs": [
    {
     "data": {
      "text/plain": [
       "2    21\n",
       "6    17\n",
       "3     8\n",
       "4     4\n",
       "1     3\n",
       "9     2\n",
       "Name: ASBH02B, dtype: int64"
      ]
     },
     "execution_count": 81,
     "metadata": {},
     "output_type": "execute_result"
    }
   ],
   "source": [
    "arabic_speakers_df[\"ASBH02B\"].value_counts()"
   ]
  },
  {
   "cell_type": "markdown",
   "metadata": {},
   "source": [
    "## Let's look at how old these children are to check they are all the same age by reading in the School Context dataset which includes the column 'ASDAGE' so we can check this and also work out at what age each child arrived in Germany."
   ]
  },
  {
   "cell_type": "code",
   "execution_count": 34,
   "metadata": {},
   "outputs": [],
   "source": [
    "arabic_speaking_immigrant_IDs = arabic_speakers_df.query(\"ASBH02A==2.0\")[\"IDSTUD\"].to_list()"
   ]
  },
  {
   "cell_type": "code",
   "execution_count": 35,
   "metadata": {},
   "outputs": [
    {
     "name": "stdout",
     "output_type": "stream",
     "text": [
      "[50010214, 50110317, 50180208, 50180216, 50250201, 50390103, 50440104, 50510215, 50720310, 50750403, 51060220, 51110318, 51370209, 51400202, 51420113, 51440317, 51460211, 51460212, 51520103, 51600211, 51720216, 51810312, 51900106, 51910205, 51960204, 51960205, 51960207, 51960210, 51960213, 51960217, 51980107, 52100212, 52250303, 52260303, 52470104, 52510311, 52590107]\n"
     ]
    }
   ],
   "source": [
    "print(arabic_speaking_immigrant_IDs)"
   ]
  },
  {
   "cell_type": "code",
   "execution_count": 36,
   "metadata": {},
   "outputs": [
    {
     "name": "stdout",
     "output_type": "stream",
     "text": [
      "<class 'pandas.core.frame.DataFrame'>\n",
      "RangeIndex: 4611 entries, 0 to 4610\n",
      "Columns: 155 entries, IDCNTRY to SCOPE\n",
      "dtypes: float64(129), int64(26)\n",
      "memory usage: 5.5 MB\n"
     ]
    }
   ],
   "source": [
    "student_context_df = pd.read_excel(\"ASGDEUR5.xlsx\")\n",
    "student_context_df.info()"
   ]
  },
  {
   "cell_type": "code",
   "execution_count": 55,
   "metadata": {},
   "outputs": [],
   "source": [
    "arabic_speaking_immigrant_student_context_df = student_context_df[student_context_df['IDSTUD'].isin(arabic_speaking_immigrant_IDs)].copy()"
   ]
  },
  {
   "cell_type": "code",
   "execution_count": 63,
   "metadata": {},
   "outputs": [],
   "source": [
    "##I have added .copy() because I don't want the 'setting with copy' warning. I have created a separate dataframe instead of a slice of the existing one. "
   ]
  },
  {
   "cell_type": "code",
   "execution_count": 84,
   "metadata": {},
   "outputs": [
    {
     "data": {
      "text/plain": [
       "12    1\n",
       "12    1\n",
       "12    1\n",
       "12    1\n",
       "11    1\n",
       "11    3\n",
       "11    1\n",
       "11    1\n",
       "11    1\n",
       "11    1\n",
       "11    1\n",
       "10    3\n",
       "10    5\n",
       "10    3\n",
       "10    4\n",
       "10    2\n",
       "10    1\n",
       "10    2\n",
       "10    1\n",
       "10    3\n",
       "Name: ASDAGE, dtype: int64"
      ]
     },
     "execution_count": 84,
     "metadata": {},
     "output_type": "execute_result"
    }
   ],
   "source": [
    "arabic_speaking_immigrant_student_context_df[\"ASDAGE\"].value_counts().sort_index(ascending=False)"
   ]
  },
  {
   "cell_type": "markdown",
   "metadata": {},
   "source": [
    "## !!!!So it seems we have some 12 year olds so it seems they may have been put in lower grades or repeated the year. I'm not sure why the value_counts() hasn't really worked..."
   ]
  },
  {
   "cell_type": "markdown",
   "metadata": {},
   "source": [
    "Let's make a new column to find out the minimum and maximum age each child could have come to Germany."
   ]
  },
  {
   "cell_type": "code",
   "execution_count": 62,
   "metadata": {},
   "outputs": [],
   "source": [
    "arabic_speaking_immigrant_student_context_df[\"YRSINDEU\"]= 0"
   ]
  },
  {
   "cell_type": "markdown",
   "metadata": {},
   "source": [
    "So how do we do this!?"
   ]
  },
  {
   "cell_type": "markdown",
   "metadata": {},
   "source": [
    "Do I want to reset the index?"
   ]
  },
  {
   "cell_type": "code",
   "execution_count": null,
   "metadata": {},
   "outputs": [],
   "source": [
    "df.loc[(df['B'] > 20) & (df['C'] == 'X'), 'A'] *= 2"
   ]
  },
  {
   "cell_type": "code",
   "execution_count": null,
   "metadata": {},
   "outputs": [],
   "source": [
    "arabic_speaking_immigrant_student_context_df.loc[(arabic_speaking_immigrant_student_context_df[''[\"YRSINDEU\"]"
   ]
  }
 ],
 "metadata": {
  "kernelspec": {
   "display_name": "Python 3",
   "language": "python",
   "name": "python3"
  },
  "language_info": {
   "codemirror_mode": {
    "name": "ipython",
    "version": 3
   },
   "file_extension": ".py",
   "mimetype": "text/x-python",
   "name": "python",
   "nbconvert_exporter": "python",
   "pygments_lexer": "ipython3",
   "version": "3.7.6"
  }
 },
 "nbformat": 4,
 "nbformat_minor": 4
}
