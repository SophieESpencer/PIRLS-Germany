{
 "cells": [
  {
   "cell_type": "code",
   "execution_count": 1,
   "metadata": {},
   "outputs": [
    {
     "name": "stdout",
     "output_type": "stream",
     "text": [
      "<class 'pandas.core.frame.DataFrame'>\n",
      "RangeIndex: 4611 entries, 0 to 4610\n",
      "Columns: 118 entries, IDCNTRY to SCOPE\n",
      "dtypes: float64(108), int64(10)\n",
      "memory usage: 4.2 MB\n",
      "['IDCNTRY', 'IDPOP', 'IDGRADER', 'IDGRADE', 'WAVE', 'IDSCHOOL', 'IDCLASS', 'IDSTUD', 'ITLANG_HQ', 'LCID_HQ', 'ASBH01A', 'ASBH01B', 'ASBH01C', 'ASBH01D', 'ASBH01E', 'ASBH01F', 'ASBH01G', 'ASBH01H', 'ASBH01I', 'ASBH01J', 'ASBH01K', 'ASBH01L', 'ASBH01M', 'ASBH01N', 'ASBH01O', 'ASBH01P', 'ASBH01Q', 'ASBH01R', 'ASBH02A', 'ASBH02B', 'ASBH03A', 'ASBH03B', 'ASBH03C', 'ASBH03D', 'ASBH03E', 'ASBH03F', 'ASBH04', 'ASBH05AA', 'ASBH05AB', 'ASBH05B', 'ASBH06', 'ASBH07A', 'ASBH07B', 'ASBH07C', 'ASBH07D', 'ASBH07E', 'ASBH07F', 'ASBH07G', 'ASBH08A', 'ASBH08B', 'ASBH08C', 'ASBH08D', 'ASBH08E', 'ASBH08F', 'ASBH09', 'ASBH10', 'ASBH11A', 'ASBH11B', 'ASBH11C', 'ASBH11D', 'ASBH11E', 'ASBH11F', 'ASBH11G', 'ASBH11H', 'ASBH12', 'ASBH13', 'ASBH14A', 'ASBH14B', 'ASBH14C', 'ASBH15A', 'ASBH15B', 'ASBH16', 'ASBH17A', 'ASBH17B', 'ASBH18AA', 'ASBH18AB', 'ASBH18BA', 'ASBH18BB', 'ASBH18CA', 'ASBH18CB', 'ASBH18DA', 'ASBH18DB', 'ASBH18EA', 'ASBH18EB', 'ASBH18FA', 'ASBH18FB', 'ASBH18GA', 'ASBH18GB', 'ASBH19', 'ASBH20A', 'ASBH20B', 'ASBH20C', 'ASBH21A', 'ASBH21B', 'ASBH21C', 'ASBH21D', 'ASBH22', 'ASBGHRL', 'ASDGHRL', 'ASBHSES', 'ASDHSES', 'ASBHELA', 'ASDHELA', 'ASBHENA', 'ASDHENA', 'ASBHELN', 'ASDHELN', 'ASBHELT', 'ASDHELT', 'ASBHPCS', 'ASDHPCS', 'ASBHPLR', 'ASDHPLR', 'ASDHAPS', 'ASDHEDUP', 'ASDHOCCP', 'VERSION', 'SCOPE']\n"
     ]
    }
   ],
   "source": [
    "import pandas as pd\n",
    "import numpy as np\n",
    "pd.set_option(\"display.max_columns\", None)\n",
    "pd.set_option(\"display.max_rows\", None)\n",
    "df = pd.read_excel(\"ASHDEUR5.xlsx\")\n",
    "df.info()\n",
    "print(df.columns.tolist())"
   ]
  },
  {
   "cell_type": "markdown",
   "metadata": {},
   "source": [
    "## From a look at the codebook for this dataset, we can see that ASBH01 refers to, ASBH02 refers to  ...."
   ]
  },
  {
   "cell_type": "markdown",
   "metadata": {},
   "source": [
    "Let's look at the ages these children came to the country.  **ASBH02B 1: Younger than 3 years old; 2: 3 to 5 years old; 3: 6 to 7 years old; 4: 8 years old or older**"
   ]
  },
  {
   "cell_type": "markdown",
   "metadata": {},
   "source": [
    "I think it might actually be good to do an initial study of these new arrivals from all schools and then do a comparative analysis of a few schools after that. Let's see how many immigrant kids we have total (meaning those born in another country)"
   ]
  },
  {
   "cell_type": "code",
   "execution_count": 8,
   "metadata": {},
   "outputs": [
    {
     "data": {
      "text/plain": [
       "6.0    2317\n",
       "2.0      75\n",
       "9.0      60\n",
       "1.0      53\n",
       "3.0      36\n",
       "4.0      32\n",
       "Name: ASBH02B, dtype: int64"
      ]
     },
     "execution_count": 8,
     "metadata": {},
     "output_type": "execute_result"
    }
   ],
   "source": [
    "df[\"ASBH02B\"].value_counts()"
   ]
  },
  {
   "cell_type": "code",
   "execution_count": 78,
   "metadata": {},
   "outputs": [],
   "source": [
    "##Using shape[0] to count the rows."
   ]
  },
  {
   "cell_type": "code",
   "execution_count": 77,
   "metadata": {},
   "outputs": [
    {
     "name": "stdout",
     "output_type": "stream",
     "text": [
      "196\n"
     ]
    }
   ],
   "source": [
    "number_immigrant_children = df[df[\"ASBH02B\"]< 6.0].shape[0]\n",
    "print(number_immigrant_children)"
   ]
  },
  {
   "cell_type": "markdown",
   "metadata": {},
   "source": [
    "How many children spoke German before they started school?  **ASBH03A (1 is yes, 2 is no)**"
   ]
  },
  {
   "cell_type": "code",
   "execution_count": 10,
   "metadata": {},
   "outputs": [
    {
     "data": {
      "text/plain": [
       "1.0    2258\n",
       "9.0     166\n",
       "2.0     149\n",
       "Name: ASBH03A, dtype: int64"
      ]
     },
     "execution_count": 10,
     "metadata": {},
     "output_type": "execute_result"
    }
   ],
   "source": [
    "df['ASBH03A'].value_counts()"
   ]
  },
  {
   "cell_type": "markdown",
   "metadata": {},
   "source": [
    "2258 spoke German before they started school and 149 didn't. "
   ]
  },
  {
   "cell_type": "markdown",
   "metadata": {},
   "source": [
    "Let's see how many children spoke Arabic before they started school. **ASBH03B**\n",
    "The other languages asked about in the test are Polish, Russian and Turkish, so we are primarily looking at Arabic speakers as potential refugees. "
   ]
  },
  {
   "cell_type": "code",
   "execution_count": 11,
   "metadata": {},
   "outputs": [
    {
     "data": {
      "text/plain": [
       "2.0    2347\n",
       "9.0     171\n",
       "1.0      55\n",
       "Name: ASBH03B, dtype: int64"
      ]
     },
     "execution_count": 11,
     "metadata": {},
     "output_type": "execute_result"
    }
   ],
   "source": [
    "df['ASBH03B'].value_counts()"
   ]
  },
  {
   "cell_type": "markdown",
   "metadata": {},
   "source": [
    "Out of all the children asked 55 are native Arabic speakers. "
   ]
  },
  {
   "cell_type": "markdown",
   "metadata": {},
   "source": [
    "Let's find the Arabic speaking children who were not born in Germany."
   ]
  },
  {
   "cell_type": "code",
   "execution_count": 31,
   "metadata": {},
   "outputs": [],
   "source": [
    "arabic_speaking_pupils_IDs = df.query(\"ASBH03B==1.0\")[\"IDSTUD\"].to_list()"
   ]
  },
  {
   "cell_type": "code",
   "execution_count": 27,
   "metadata": {},
   "outputs": [
    {
     "name": "stdout",
     "output_type": "stream",
     "text": [
      "[50010214, 50110317, 50180208, 50180211, 50180216, 50210316, 50250201, 50390103, 50400103, 50440104, 50510215, 50720310, 50750403, 50870204, 50870207, 51010213, 51060220, 51090111, 51110318, 51330208, 51370209, 51400202, 51420113, 51440306, 51440317, 51460211, 51460212, 51520103, 51600211, 51660303, 51720216, 51810312, 51860212, 51900106, 51910205, 51960204, 51960205, 51960207, 51960210, 51960213, 51960217, 51980107, 52030101, 52100212, 52250303, 52260303, 52310209, 52310217, 52310224, 52470104, 52490422, 52510311, 52510312, 52590107, 52660213]\n"
     ]
    }
   ],
   "source": [
    "print(arabic_speaking_pupils_IDs)"
   ]
  },
  {
   "cell_type": "code",
   "execution_count": 79,
   "metadata": {},
   "outputs": [],
   "source": [
    "arabic_speakers_df = df[df['IDSTUD'].isin(arabic_speaking_pupils_IDs)].copy()"
   ]
  },
  {
   "cell_type": "code",
   "execution_count": 80,
   "metadata": {},
   "outputs": [
    {
     "data": {
      "text/plain": [
       "2    37\n",
       "1    17\n",
       "9     1\n",
       "Name: ASBH02A, dtype: int64"
      ]
     },
     "execution_count": 80,
     "metadata": {},
     "output_type": "execute_result"
    }
   ],
   "source": [
    "arabic_speakers_df[\"ASBH02A\"].value_counts()"
   ]
  },
  {
   "cell_type": "markdown",
   "metadata": {},
   "source": [
    "37 of our Arabic speakers were not born in Germany and 17 were. "
   ]
  },
  {
   "cell_type": "markdown",
   "metadata": {},
   "source": [
    "Let's look at the ages these children came to the country. ASBH02B 1: Younger than 3 years old; 2: 3 to 5 years old; 3: 6 to 7 years old; 4: 8 years old or older."
   ]
  },
  {
   "cell_type": "code",
   "execution_count": 81,
   "metadata": {},
   "outputs": [
    {
     "data": {
      "text/plain": [
       "2    21\n",
       "6    17\n",
       "3     8\n",
       "4     4\n",
       "1     3\n",
       "9     2\n",
       "Name: ASBH02B, dtype: int64"
      ]
     },
     "execution_count": 81,
     "metadata": {},
     "output_type": "execute_result"
    }
   ],
   "source": [
    "arabic_speakers_df[\"ASBH02B\"].value_counts()"
   ]
  },
  {
   "cell_type": "markdown",
   "metadata": {},
   "source": [
    "## Let's look at how old these children are to check they are all the same age by reading in the School Context dataset which includes the column 'ASDAGE' so we can check this and also work out at what age each child arrived in Germany."
   ]
  },
  {
   "cell_type": "code",
   "execution_count": 34,
   "metadata": {},
   "outputs": [],
   "source": [
    "arabic_speaking_immigrant_IDs = arabic_speakers_df.query(\"ASBH02A==2.0\")[\"IDSTUD\"].to_list()"
   ]
  },
  {
   "cell_type": "code",
   "execution_count": 35,
   "metadata": {},
   "outputs": [
    {
     "name": "stdout",
     "output_type": "stream",
     "text": [
      "[50010214, 50110317, 50180208, 50180216, 50250201, 50390103, 50440104, 50510215, 50720310, 50750403, 51060220, 51110318, 51370209, 51400202, 51420113, 51440317, 51460211, 51460212, 51520103, 51600211, 51720216, 51810312, 51900106, 51910205, 51960204, 51960205, 51960207, 51960210, 51960213, 51960217, 51980107, 52100212, 52250303, 52260303, 52470104, 52510311, 52590107]\n"
     ]
    }
   ],
   "source": [
    "print(arabic_speaking_immigrant_IDs)"
   ]
  },
  {
   "cell_type": "code",
   "execution_count": 36,
   "metadata": {},
   "outputs": [
    {
     "name": "stdout",
     "output_type": "stream",
     "text": [
      "<class 'pandas.core.frame.DataFrame'>\n",
      "RangeIndex: 4611 entries, 0 to 4610\n",
      "Columns: 155 entries, IDCNTRY to SCOPE\n",
      "dtypes: float64(129), int64(26)\n",
      "memory usage: 5.5 MB\n"
     ]
    }
   ],
   "source": [
    "student_context_df = pd.read_excel(\"ASGDEUR5.xlsx\")\n",
    "student_context_df.info()"
   ]
  },
  {
   "cell_type": "code",
   "execution_count": 55,
   "metadata": {},
   "outputs": [],
   "source": [
    "arabic_speaking_immigrant_student_context_df = student_context_df[student_context_df['IDSTUD'].isin(arabic_speaking_immigrant_IDs)].copy()"
   ]
  },
  {
   "cell_type": "code",
   "execution_count": 63,
   "metadata": {},
   "outputs": [],
   "source": [
    "##I have added .copy() because I don't want the 'setting with copy' warning. I have created a separate dataframe instead of a slice of the existing one. "
   ]
  },
  {
   "cell_type": "code",
   "execution_count": 96,
   "metadata": {},
   "outputs": [
    {
     "data": {
      "text/plain": [
       "12.33    1\n",
       "12.00    1\n",
       "11.67    1\n",
       "11.58    1\n",
       "11.42    1\n",
       "11.25    3\n",
       "11.17    1\n",
       "11.08    1\n",
       "11.00    1\n",
       "10.75    1\n",
       "10.67    1\n",
       "10.42    3\n",
       "10.33    5\n",
       "10.25    3\n",
       "10.17    4\n",
       "10.00    2\n",
       "9.92     1\n",
       "9.83     2\n",
       "9.75     1\n",
       "9.67     3\n",
       "Name: ASDAGE, dtype: int64"
      ]
     },
     "execution_count": 96,
     "metadata": {},
     "output_type": "execute_result"
    }
   ],
   "source": [
    "arabic_speaking_immigrant_student_context_df[\"ASDAGE\"].astype(float).value_counts().sort_index(ascending=False)"
   ]
  },
  {
   "cell_type": "code",
   "execution_count": 95,
   "metadata": {},
   "outputs": [],
   "source": [
    "pd.options.display.float_format = '{:.2f}'.format"
   ]
  },
  {
   "cell_type": "markdown",
   "metadata": {},
   "source": [
    "So it seems we have some 12 year olds so it seems they may have been put in lower grades or repeated the year."
   ]
  },
  {
   "cell_type": "markdown",
   "metadata": {},
   "source": [
    "I want to look at this group in a bit more detail in another notebook. So I will put them in a new excels and read them into a new notebook. "
   ]
  },
  {
   "cell_type": "code",
   "execution_count": 104,
   "metadata": {},
   "outputs": [],
   "source": [
    "arabic_speakers_df.to_excel(\"Arabic_speakers_HC.xlsx\")"
   ]
  },
  {
   "cell_type": "code",
   "execution_count": 105,
   "metadata": {},
   "outputs": [],
   "source": [
    "arabic_speaking_immigrant_student_context_df.to_excel(\"Arabic_speakers_SC.xlsx\")"
   ]
  }
 ],
 "metadata": {
  "kernelspec": {
   "display_name": "Python 3",
   "language": "python",
   "name": "python3"
  },
  "language_info": {
   "codemirror_mode": {
    "name": "ipython",
    "version": 3
   },
   "file_extension": ".py",
   "mimetype": "text/x-python",
   "name": "python",
   "nbconvert_exporter": "python",
   "pygments_lexer": "ipython3",
   "version": "3.7.6"
  }
 },
 "nbformat": 4,
 "nbformat_minor": 4
}
