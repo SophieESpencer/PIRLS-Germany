{
 "cells": [
  {
   "cell_type": "code",
   "execution_count": 1,
   "metadata": {},
   "outputs": [
    {
     "name": "stdout",
     "output_type": "stream",
     "text": [
      "<class 'pandas.core.frame.DataFrame'>\n",
      "RangeIndex: 4611 entries, 0 to 4610\n",
      "Columns: 155 entries, IDCNTRY to SCOPE\n",
      "dtypes: float64(129), int64(26)\n",
      "memory usage: 5.5 MB\n"
     ]
    }
   ],
   "source": [
    "import pandas as pd\n",
    "import numpy as np\n",
    "pd.set_option(\"display.max_columns\", None)\n",
    "pd.set_option(\"display.max_rows\", None)\n",
    "df = pd.read_excel(\"ASGDEUR5.xlsx\")\n",
    "df.info()"
   ]
  },
  {
   "cell_type": "markdown",
   "metadata": {},
   "source": [
    "The below is a list of IDs of all Arabic speaking children in the PIRLS sample from the Home Context data"
   ]
  },
  {
   "cell_type": "code",
   "execution_count": 2,
   "metadata": {},
   "outputs": [],
   "source": [
    "arabic_speaking_pupils_IDs = [50010214, 50110317, 50180208, 50180211, 50180216, 50210316, 50250201, 50390103, 50400103, 50440104, 50510215, 50720310, 50750403, 50870204, 50870207, 51010213, 51060220, 51090111, 51110318, 51330208, 51370209, 51400202, 51420113, 51440306, 51440317, 51460211, 51460212, 51520103, 51600211, 51660303, 51720216, 51810312, 51860212, 51900106, 51910205, 51960204, 51960205, 51960207, 51960210, 51960213, 51960217, 51980107, 52030101, 52100212, 52250303, 52260303, 52310209, 52310217, 52310224, 52470104, 52490422, 52510311, 52510312, 52590107, 52660213]"
   ]
  },
  {
   "cell_type": "markdown",
   "metadata": {},
   "source": [
    "We can use this to better understand the experiences of Arabic speaking children at school in Germany.\n",
    "\n",
    "What do we want to look at here?\n",
    "\n",
    "Let's first check date of birth to check we are not dealing with any 'sitzenbleibers'\n",
    "\n",
    "So I think it makes sense now to filter the database by being Arabic speaking and not born in Germany.\n",
    "\n",
    "Of course it would also be interesting to look at Arabic speakers who were born in Germany."
   ]
  },
  {
   "cell_type": "code",
   "execution_count": 3,
   "metadata": {},
   "outputs": [],
   "source": [
    "arabic_speakers_df = df[df['IDSTUD'].isin(arabic_speaking_pupils_IDs)]"
   ]
  },
  {
   "cell_type": "markdown",
   "metadata": {},
   "source": [
    "The first column of interest is ASBG03 - which is **How often do you speak <language of test> at home?** - let's take a look.\n",
    "\n",
    "We can also get more of this demographic data including at what age the child came to Germany and what languages they speak by matching the student IDs with those in the 'Home Context' dataset for a better idea of the populations we are dealing with."
   ]
  },
  {
   "cell_type": "code",
   "execution_count": 4,
   "metadata": {},
   "outputs": [
    {
     "name": "stdout",
     "output_type": "stream",
     "text": [
      "<class 'pandas.core.frame.DataFrame'>\n",
      "Int64Index: 55 entries, 13 to 4578\n",
      "Columns: 155 entries, IDCNTRY to SCOPE\n",
      "dtypes: float64(129), int64(26)\n",
      "memory usage: 67.0 KB\n"
     ]
    }
   ],
   "source": [
    "arabic_speakers_df.info()"
   ]
  },
  {
   "cell_type": "code",
   "execution_count": null,
   "metadata": {},
   "outputs": [],
   "source": []
  }
 ],
 "metadata": {
  "kernelspec": {
   "display_name": "Python 3",
   "language": "python",
   "name": "python3"
  },
  "language_info": {
   "codemirror_mode": {
    "name": "ipython",
    "version": 3
   },
   "file_extension": ".py",
   "mimetype": "text/x-python",
   "name": "python",
   "nbconvert_exporter": "python",
   "pygments_lexer": "ipython3",
   "version": "3.7.6"
  }
 },
 "nbformat": 4,
 "nbformat_minor": 4
}
