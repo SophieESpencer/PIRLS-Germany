{
 "cells": [
  {
   "cell_type": "markdown",
   "metadata": {},
   "source": [
    "## Germany PIRLS School Context Initial Investigation ##"
   ]
  },
  {
   "cell_type": "markdown",
   "metadata": {},
   "source": [
    "I have chosen to look at Germany first as it is the European country with the highest number of both Syrian and Afghan refugees. It is also a wealthy country with generally good social policies and good education spending so, depending on results, it may be possible to use it as a vision of what schooling for refugees should look like - but let's see!"
   ]
  },
  {
   "cell_type": "code",
   "execution_count": 1,
   "metadata": {},
   "outputs": [],
   "source": [
    "import pandas as pd\n",
    "import numpy as np\n",
    "pd.set_option(\"display.max_columns\", None)\n",
    "pd.set_option(\"display.max_rows\", None)"
   ]
  },
  {
   "cell_type": "code",
   "execution_count": 2,
   "metadata": {},
   "outputs": [],
   "source": [
    "df = pd.read_excel(\"ACGDEUR5.xlsx\")"
   ]
  },
  {
   "cell_type": "code",
   "execution_count": 3,
   "metadata": {},
   "outputs": [
    {
     "name": "stdout",
     "output_type": "stream",
     "text": [
      "<class 'pandas.core.frame.DataFrame'>\n",
      "RangeIndex: 252 entries, 0 to 251\n",
      "Columns: 101 entries, IDCNTRY to SCOPE\n",
      "dtypes: float64(92), int64(9)\n",
      "memory usage: 199.0 KB\n"
     ]
    }
   ],
   "source": [
    "df.info()"
   ]
  },
  {
   "cell_type": "markdown",
   "metadata": {},
   "source": [
    "This tells us we are looking at approximately 250 schools. "
   ]
  },
  {
   "cell_type": "code",
   "execution_count": 4,
   "metadata": {},
   "outputs": [
    {
     "data": {
      "text/plain": [
       "Index(['IDCNTRY', 'IDPOP', 'IDGRADER', 'IDGRADE', 'IDSCHOOL', 'ITLANG_CQ',\n",
       "       'LCID_CQ', 'ACBG03A', 'ACBG03B', 'ACBG04',\n",
       "       ...\n",
       "       'ACBGRRS', 'ACDGRRS', 'ACBGEAS', 'ACDGEAS', 'ACBGDAS', 'ACDGDAS',\n",
       "       'ACDGSBC', 'ACDGTIHY', 'VERSION', 'SCOPE'],\n",
       "      dtype='object', length=101)"
      ]
     },
     "execution_count": 4,
     "metadata": {},
     "output_type": "execute_result"
    }
   ],
   "source": [
    "df.columns"
   ]
  },
  {
   "cell_type": "code",
   "execution_count": 5,
   "metadata": {},
   "outputs": [
    {
     "name": "stdout",
     "output_type": "stream",
     "text": [
      "['IDCNTRY', 'IDPOP', 'IDGRADER', 'IDGRADE', 'IDSCHOOL', 'ITLANG_CQ', 'LCID_CQ', 'ACBG03A', 'ACBG03B', 'ACBG04', 'ACBG05A', 'ACBG05B', 'ACBG06A', 'ACBG06B', 'ACBG06C', 'ACBG07A', 'ACBG07B', 'ACBG07C', 'ACBG08', 'ACBG09', 'ACBG10AA', 'ACBG10AB', 'ACBG10AC', 'ACBG10AD', 'ACBG10AE', 'ACBG10AF', 'ACBG10AG', 'ACBG10AH', 'ACBG10AI', 'ACBG10AJ', 'ACBG10BA', 'ACBG10BB', 'ACBG10BC', 'ACBG10BD', 'ACBG11A', 'ACBG11B', 'ACBG11C', 'ACBG11D', 'ACBG11E', 'ACBG11F', 'ACBG11G', 'ACBG11H', 'ACBG11I', 'ACBG11J', 'ACBG11K', 'ACBG11L', 'ACBG12A', 'ACBG12B', 'ACBG12C', 'ACBG12D', 'ACBG12E', 'ACBG12F', 'ACBG12G', 'ACBG12H', 'ACBG12I', 'ACBG12J', 'ACBG13', 'ACBG14A', 'ACBG14B', 'ACBG14C', 'ACBG14D', 'ACBG14E', 'ACBG14F', 'ACBG14G', 'ACBG14H', 'ACBG14I', 'ACBG14J', 'ACBG14K', 'ACBG14L', 'ACBG14M', 'ACBG14N', 'ACBG15', 'ACBG16', 'ACBG17', 'ACBG18A', 'ACBG18B', 'ACBG18C', 'ACBG19', 'ACBG20', 'ACBG21A', 'ACBG21B', 'ACBG21C', 'ACBG21D', 'ACBG21E', 'ACBG21F', 'SCHWGT', 'STOTWGTU', 'WGTADJ1', 'WGTFAC1', 'JKCREP', 'JKCZONE', 'ACBGRRS', 'ACDGRRS', 'ACBGEAS', 'ACDGEAS', 'ACBGDAS', 'ACDGDAS', 'ACDGSBC', 'ACDGTIHY', 'VERSION', 'SCOPE']\n"
     ]
    }
   ],
   "source": [
    "print(df.columns.tolist())"
   ]
  },
  {
   "cell_type": "markdown",
   "metadata": {},
   "source": [
    "Now I need to look at the user guide to understand which columns are interesting for this analysis. See interesting indicators below."
   ]
  },
  {
   "cell_type": "markdown",
   "metadata": {},
   "source": [
    "ACBG03A Approximately what percentage of students in your school have the\n",
    "following backgrounds? Come from economically disadvantaged\n",
    "homes\n",
    "ACBG03B Approximately what percentage of students in your school have the\n",
    "following backgrounds? Come from economically affluent homes\n",
    "ACBG04 Approximately what percentage of students in your school have\n",
    "<language of test> as their native language?\n",
    "ACBG05A How many people live in the city, town, or area where your school is\n",
    "located?\n",
    "ACBG05B Which best describes the immediate area in which your school is\n",
    "located?"
   ]
  },
  {
   "cell_type": "markdown",
   "metadata": {},
   "source": [
    "These are the first few columns so we can effectively drop the rest as we are initially only using these columns to identify schools with high numbers of children from immigrant backgrounds. "
   ]
  },
  {
   "cell_type": "markdown",
   "metadata": {},
   "source": [
    "ACBG04 is for Percentage of students who have language of test as native language, with 1 being more than 90% and 5 being 25% or less. I will look at this first as I am most interested in students with immigrant and refugee backgrounds. The economic situation of these schools is of secondary interest."
   ]
  },
  {
   "cell_type": "markdown",
   "metadata": {},
   "source": [
    "First I will look at the percentage of schools with these proportions of children with immigrant backgrounds."
   ]
  },
  {
   "cell_type": "code",
   "execution_count": 15,
   "metadata": {},
   "outputs": [
    {
     "data": {
      "text/plain": [
       "2.0    26.213592\n",
       "1.0    24.271845\n",
       "3.0    24.271845\n",
       "4.0    15.048544\n",
       "5.0     9.223301\n",
       "9.0     0.970874\n",
       "Name: ACBG04, dtype: float64"
      ]
     },
     "execution_count": 15,
     "metadata": {},
     "output_type": "execute_result"
    }
   ],
   "source": [
    "df[\"ACBG04\"].value_counts(normalize = True)*100"
   ]
  },
  {
   "cell_type": "markdown",
   "metadata": {},
   "source": [
    "Only 10% of schools have populations of students with 25% or less students having German as their native language. These are probably the schools I am interested in as a first point of call. It would also be interesting to see how these schools in particular fare on an affluence level."
   ]
  },
  {
   "cell_type": "code",
   "execution_count": 16,
   "metadata": {},
   "outputs": [],
   "source": [
    "bool = df[\"ACBG04\"]== 5.0"
   ]
  },
  {
   "cell_type": "code",
   "execution_count": 17,
   "metadata": {},
   "outputs": [
    {
     "name": "stdout",
     "output_type": "stream",
     "text": [
      "<class 'pandas.core.frame.DataFrame'>\n",
      "Int64Index: 19 entries, 16 to 214\n",
      "Columns: 101 entries, IDCNTRY to SCOPE\n",
      "dtypes: float64(92), int64(9)\n",
      "memory usage: 15.1 KB\n"
     ]
    }
   ],
   "source": [
    "immigrant_schools = df[bool]\n",
    "immigrant_schools.info()"
   ]
  },
  {
   "cell_type": "markdown",
   "metadata": {},
   "source": [
    "We might want to look at a few more schools than this. Let's include the schools with a few less."
   ]
  },
  {
   "cell_type": "code",
   "execution_count": 23,
   "metadata": {},
   "outputs": [
    {
     "name": "stdout",
     "output_type": "stream",
     "text": [
      "<class 'pandas.core.frame.DataFrame'>\n",
      "Int64Index: 50 entries, 9 to 221\n",
      "Columns: 101 entries, IDCNTRY to SCOPE\n",
      "dtypes: float64(92), int64(9)\n",
      "memory usage: 39.8 KB\n"
     ]
    }
   ],
   "source": [
    "bool_2 = (df[\"ACBG04\"]>= 4.0) & (df[\"ACBG04\"]< 9.0)\n",
    "immigrant_schools2 = df[bool_2]\n",
    "immigrant_schools2.info()"
   ]
  },
  {
   "cell_type": "markdown",
   "metadata": {},
   "source": [
    "These are the school IDs of the schools we need to look out for in the other tables. Later we can also look at the areas in which these schools are located but for now we are just interested in understanding how immigrant and potentially refugee status affects students' learning experience and outcomes. "
   ]
  },
  {
   "cell_type": "code",
   "execution_count": 28,
   "metadata": {},
   "outputs": [
    {
     "name": "stdout",
     "output_type": "stream",
     "text": [
      "Pretty printing has been turned OFF\n"
     ]
    }
   ],
   "source": [
    "immigrant_schools2[\"IDSCHOOL\"].tolist()\n",
    "%pprint"
   ]
  },
  {
   "cell_type": "code",
   "execution_count": 29,
   "metadata": {},
   "outputs": [
    {
     "data": {
      "text/plain": [
       "[5011, 5013, 5016, 5018, 5025, 5026, 5033, 5036, 5040, 5062, 5075, 5078, 5081, 5084, 5087, 5090, 5099, 5101, 5106, 5108, 5123, 5134, 5137, 5140, 5144, 5149, 5156, 5157, 5158, 5159, 5161, 5163, 5164, 5169, 5170, 5171, 5190, 5191, 5193, 5196, 5205, 5207, 5209, 5210, 5219, 5222, 5229, 5230, 5231, 5237]"
      ]
     },
     "execution_count": 29,
     "metadata": {},
     "output_type": "execute_result"
    }
   ],
   "source": [
    "immigrant_schools2[\"IDSCHOOL\"].tolist()"
   ]
  },
  {
   "cell_type": "code",
   "execution_count": null,
   "metadata": {},
   "outputs": [],
   "source": []
  }
 ],
 "metadata": {
  "kernelspec": {
   "display_name": "Python 3",
   "language": "python",
   "name": "python3"
  },
  "language_info": {
   "codemirror_mode": {
    "name": "ipython",
    "version": 3
   },
   "file_extension": ".py",
   "mimetype": "text/x-python",
   "name": "python",
   "nbconvert_exporter": "python",
   "pygments_lexer": "ipython3",
   "version": "3.7.6"
  }
 },
 "nbformat": 4,
 "nbformat_minor": 4
}
